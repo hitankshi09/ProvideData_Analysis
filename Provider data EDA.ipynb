{
 "cells": [
  {
   "cell_type": "code",
   "execution_count": 25,
   "id": "50f6c82b-6c99-477c-a1b2-52c9eaea041e",
   "metadata": {},
   "outputs": [
    {
     "name": "stdout",
     "output_type": "stream",
     "text": [
      "The visualizations have been saved to visualizations.html\n"
     ]
    }
   ],
   "source": [
    "import pandas as pd\n",
    "import plotly.express as px\n",
    "import plotly.graph_objects as go\n",
    "from plotly.subplots import make_subplots\n",
    "\n",
    "# Load the CSV file into a DataFrame\n",
    "df = pd.read_csv('ProviderData.csv', encoding='latin1')\n",
    "\n",
    "# Create a histogram for the variable named 'Cost'\n",
    "fig1 = px.histogram(df, x='Cost', nbins=20, title='Histogram of Cost')\n",
    "\n",
    "# Create a boxplot of Cost by TrainingType\n",
    "fig2 = px.box(df, x='TrainingType', y='Cost', title='Boxplot of Cost by TrainingType')\n",
    "\n",
    "# Create a scatter plot of Cost vs TotalCredits colored by Industries using Plotly\n",
    "fig3 = px.scatter(df, x='TotalCredits', y='Cost', color='Industries',\n",
    "                 title='Scatter plot of Cost vs TotalCredits colored by Industries',\n",
    "                 labels={'TotalCredits': 'TotalCredits', 'Cost': 'Cost'})\n",
    "\n",
    "# Create a histogram for Cost vs Frequency for each industry with a dropdown filter\n",
    "fig4 = px.histogram(df, x='Cost', color='Industries', barmode='overlay',\n",
    "                   title='Histogram of Cost vs Frequency for Each Industry')\n",
    "\n",
    "# Count the number of providers in each industry\n",
    "industry_count = df['Industries'].value_counts().reset_index()\n",
    "industry_count.columns = ['Industry', 'Frequency']\n",
    "\n",
    "# Create a bar chart using Plotly\n",
    "fig5 = px.bar(industry_count, x='Industry', y='Frequency', text='Frequency',\n",
    "             title='Number of Providers in Each Industry')\n",
    "\n",
    "# Update the layout to rotate x-axis labels\n",
    "fig5.update_layout(xaxis_tickangle=-45)\n",
    "\n",
    "# Count the number of providers in each TrainingType\n",
    "training_type_count = df['TrainingType'].value_counts().reset_index()\n",
    "training_type_count.columns = ['TrainingType', 'Frequency']\n",
    "\n",
    "# Create a bar chart using Plotly\n",
    "fig6 = px.bar(training_type_count, x='TrainingType', y='Frequency', text='Frequency',\n",
    "             title='Number of Providers in Each TrainingType')\n",
    "\n",
    "# Update the layout to rotate x-axis labels\n",
    "fig6.update_layout(xaxis_tickangle=-45)\n",
    "\n",
    "# Combine both plots into a single HTML file\n",
    "with open('visualizations.html', 'w') as f:\n",
    "    f.write(fig1.to_html(full_html=False, include_plotlyjs='cdn'))\n",
    "    f.write(fig2.to_html(full_html=False, include_plotlyjs='cdn'))\n",
    "    f.write(fig3.to_html(full_html=False, include_plotlyjs='cdn'))\n",
    "    f.write(fig4.to_html(full_html=False, include_plotlyjs='cdn'))\n",
    "    f.write(fig5.to_html(full_html=False, include_plotlyjs='cdn'))\n",
    "    f.write(fig6.to_html(full_html=False, include_plotlyjs='cdn'))\n",
    "\n",
    "print(\"The visualizations have been saved to visualizations.html\")\n",
    " "
   ]
  },
  {
   "cell_type": "code",
   "execution_count": null,
   "id": "8fd34291-d46a-4418-a14d-dda37ad84222",
   "metadata": {},
   "outputs": [],
   "source": [
    "import pandas as pd\n",
    "\n",
    "# Load the CSV file into a DataFrame\n",
    "df = pd.read_csv('ProviderData.csv', encoding='latin1')\n",
    "\n",
    "# Function to separate 'Non-Credit' or 'Credit' from the 'Provider' column\n",
    "def separate_credit_non_credit(provider):\n",
    "    if 'Non-Credit' in provider:\n",
    "        return 'Non-Credit'\n",
    "    elif 'Credit' in provider:\n",
    "        return 'Credit'\n",
    "    else:\n",
    "        return 'Unknown'\n",
    "\n",
    "# Apply the function to the 'Provider' column and create a new column 'Credit_Type'\n",
    "df['Credit_Type'] = df['Provider'].apply(separate_credit_non_credit)\n",
    "\n",
    "# Save the updated DataFrame to a new CSV file\n",
    "df.to_csv('Updated_ProviderData1.csv', index=False)\n",
    "\n",
    "print(\"The words 'Non-Credit' or 'Credit' have been separated from the 'Provider' column and saved to 'Updated_ProviderData.csv'.\")"
   ]
  },
  {
   "cell_type": "code",
   "execution_count": null,
   "id": "c13aa0c2-3ce1-40c7-9551-8b7fd56d87a3",
   "metadata": {},
   "outputs": [],
   "source": [
    "import pandas as pd\n",
    "import re\n",
    "\n",
    "# Load the CSV file into a DataFrame\n",
    "df = pd.read_csv('Updated_ProviderData1.csv', encoding='latin1')\n",
    "\n",
    "# Function to extract everything before the first comma in the address\n",
    "def extract_before_first_comma(Address ):\n",
    "    return re.split(r',', Address , 1)[0]\n",
    "\n",
    "# Apply the function to the 'Address' column and create a new column 'Street_Name'\n",
    "df['Street_Name'] = df['Address '].apply(extract_before_first_comma)\n",
    "\n",
    "# Save the updated DataFrame to a new CSV file\n",
    "df.to_csv('Updated_ProviderData_with_Street2.csv', index=False)\n",
    "\n",
    "print(\"The street names have been extracted from the 'Address' column and saved to 'Updated_ProviderData_with_Street2.csv'.\")"
   ]
  }
 ],
 "metadata": {
  "kernelspec": {
   "display_name": "Python 3 (ipykernel)",
   "language": "python",
   "name": "python3"
  },
  "language_info": {
   "codemirror_mode": {
    "name": "ipython",
    "version": 3
   },
   "file_extension": ".py",
   "mimetype": "text/x-python",
   "name": "python",
   "nbconvert_exporter": "python",
   "pygments_lexer": "ipython3",
   "version": "3.12.4"
  }
 },
 "nbformat": 4,
 "nbformat_minor": 5
}
