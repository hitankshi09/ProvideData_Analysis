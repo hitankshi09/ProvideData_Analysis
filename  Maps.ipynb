{
 "cells": [
  {
   "cell_type": "code",
   "execution_count": 5,
   "id": "b6949366-0e46-491c-bf58-cca57a928768",
   "metadata": {},
   "outputs": [
    {
     "name": "stderr",
     "output_type": "stream",
     "text": [
      "C:\\Users\\HitankshiJain\\anaconda3\\Lib\\site-packages\\openpyxl\\worksheet\\_read_only.py:81: UserWarning: Data Validation extension is not supported and will be removed\n",
      "  for idx, row in parser.parse():\n"
     ]
    },
    {
     "name": "stdout",
     "output_type": "stream",
     "text": [
      "Map has been created and saved as map.html.\n"
     ]
    }
   ],
   "source": [
    "import pandas as pd\n",
    "import folium\n",
    "\n",
    "# Function to create a map with latitude, longitude, and an additional variable from a CSV file\n",
    "def create_map_from_csv(file_path, lat_col, lon_col, additional_col):\n",
    "    # Load the CSV file into a DataFrame\n",
    "    df = pd.read_excel(file_path, 'Program Opportunity')\n",
    "    \n",
    "    # Drop rows with NaN values in latitude or longitude columns\n",
    "    df = df.dropna(subset=[lat_col, lon_col])\n",
    "    \n",
    "    # Create a map centered at the average latitude and longitude\n",
    "    m = folium.Map(location=[df[lat_col].mean(), df[lon_col].mean()], zoom_start=6)\n",
    "    \n",
    "    # Add markers for each row in the DataFrame\n",
    "    for _, row in df.iterrows():\n",
    "        folium.Marker(\n",
    "            location=[row[lat_col], row[lon_col]],\n",
    "            popup=f\"{additional_col}: {row[additional_col]}\"\n",
    "        ).add_to(m)\n",
    "    \n",
    "    # Save the map as an HTML file\n",
    "    m.save('map.html')\n",
    "\n",
    "# Example usage\n",
    "file_path = 'ProviderData_Final.xlsx'  \n",
    "lat_col = 'lat'  \n",
    "lon_col = 'long'  \n",
    "additional_col = 'Provider*'   \n",
    "\n",
    "create_map_from_csv(file_path, lat_col, lon_col, additional_col)\n",
    "\n",
    "print(\"Map has been created and saved as map.html.\")"
   ]
  },
  {
   "cell_type": "code",
   "execution_count": 9,
   "id": "8cb13949-12ec-45d3-89c7-1c395e71f202",
   "metadata": {},
   "outputs": [
    {
     "name": "stdout",
     "output_type": "stream",
     "text": [
      "Map has been created and saved as map.html.\n"
     ]
    },
    {
     "name": "stderr",
     "output_type": "stream",
     "text": [
      "C:\\Users\\HitankshiJain\\anaconda3\\Lib\\site-packages\\openpyxl\\worksheet\\_read_only.py:81: UserWarning: Data Validation extension is not supported and will be removed\n",
      "  for idx, row in parser.parse():\n"
     ]
    }
   ],
   "source": [
    "import pandas as pd\n",
    "import folium\n",
    "\n",
    "# Function to create a map with latitude, longitude, and additional variables from a CSV file\n",
    "def create_map_from_csv(file_path, lat_col, lon_col, additional_col1, additional_col2):\n",
    "    # Load the CSV file into a DataFrame with the specified encoding\n",
    "    df = pd.read_excel(file_path, 'Program Opportunity')\n",
    "    \n",
    "    # Drop rows with NaN values in latitude or longitude columns\n",
    "    df = df.dropna(subset=[lat_col, lon_col])\n",
    "    \n",
    "    # Create a map centered at the average latitude and longitude\n",
    "    m = folium.Map(location=[df[lat_col].mean(), df[lon_col].mean()], zoom_start=6)\n",
    "    \n",
    "    # Add markers for each row in the DataFrame\n",
    "    for _, row in df.iterrows():\n",
    "        color = 'blue' if row[additional_col1] == 'Trade' else 'red'\n",
    "        folium.Marker(\n",
    "            location=[row[lat_col], row[lon_col]],\n",
    "            popup=f\"{additional_col1}: {row[additional_col1]}, {additional_col2}: {row[additional_col2]}\",\n",
    "            icon=folium.Icon(color=color)\n",
    "        ).add_to(m)\n",
    "    \n",
    "    # Save the map as an HTML file\n",
    "    m.save('map1.html')\n",
    "\n",
    "# Example usage\n",
    "file_path = 'ProviderData_Final.xlsx'  \n",
    "lat_col = 'lat'  \n",
    "lon_col = 'long'  \n",
    "additional_col1 = 'Training Type*'\n",
    "additional_col2 = 'Provider*'\n",
    "\n",
    "create_map_from_csv(file_path, lat_col, lon_col, additional_col1, additional_col2)\n",
    "\n",
    "print(\"Map has been created and saved as map1.html.\")"
   ]
  },
  {
   "cell_type": "code",
   "execution_count": 32,
   "id": "446e830a-0b7a-458b-873c-426e694e3364",
   "metadata": {},
   "outputs": [
    {
     "name": "stdout",
     "output_type": "stream",
     "text": [
      "Map has been created and saved as map.html.\n"
     ]
    },
    {
     "name": "stderr",
     "output_type": "stream",
     "text": [
      "C:\\Users\\HitankshiJain\\anaconda3\\Lib\\site-packages\\openpyxl\\worksheet\\_read_only.py:81: UserWarning: Data Validation extension is not supported and will be removed\n",
      "  for idx, row in parser.parse():\n"
     ]
    }
   ],
   "source": [
    "import pandas as pd\n",
    "import folium\n",
    "\n",
    "# Function to create a map with latitude, longitude, and an additional variable from a CSV file\n",
    "def create_map_from_csv(file_path, lat_col, lon_col, additional_col):\n",
    "    # Load the CSV file into a DataFrame with the specified encoding\n",
    "    df = pd.read_excel(file_path, 'Program Opportunity')\n",
    "    \n",
    "    # Drop rows with NaN values in latitude or longitude columns\n",
    "    df = df.dropna(subset=[lat_col, lon_col])\n",
    "    \n",
    "    # Create a map centered at the average latitude and longitude\n",
    "    m = folium.Map(location=[df[lat_col].mean(), df[lon_col].mean()], zoom_start=6)\n",
    "    \n",
    "    # Define colors for each industry\n",
    "    industry_colors = {\n",
    "        'Automotive & Transportation': 'blue',\n",
    "        'Healthcare': 'red',\n",
    "        'Information Technology': 'green',\n",
    "        'Construction': 'purple',\n",
    "        'Manufacturing & Logistics': 'orange',\n",
    "        'Business Financial Services': 'darkred',\n",
    "        'Transportation': 'darkblue',\n",
    "        'Other': 'black'\n",
    "    }\n",
    "    \n",
    "    # Add markers for each row in the DataFrame\n",
    "    for _, row in df.iterrows():\n",
    "        color = industry_colors.get(row[additional_col], 'gray')  # Default to gray if industry not found\n",
    "        folium.Marker(\n",
    "            location=[row[lat_col], row[lon_col]],\n",
    "            popup=f\"{additional_col}: {row[additional_col]}\",\n",
    "            icon=folium.Icon(color=color)\n",
    "        ).add_to(m)\n",
    "    \n",
    "    # Add legend to the map\n",
    "    legend_html = '''\n",
    "     <div style=\"position: fixed; \n",
    "     bottom: 50px; left: 50px; width: 200px; height: 300px; \n",
    "     border:2px solid grey; z-index:9999; font-size:14px;\n",
    "     background-color:white;\n",
    "     \">\n",
    "      <b>Industries Legend</b><br>\n",
    "      <i class=\"fa fa-map-marker fa-2x\" style=\"color:blue\"></i> Automotive & Transportation<br>\n",
    "      <i class=\"fa fa-map-marker fa-2x\" style=\"color:red\"></i> Healthcare<br>\n",
    "      <i class=\"fa fa-map-marker fa-2x\" style=\"color:green\"></i> Information Technology<br>\n",
    "      <i class=\"fa fa-map-marker fa-2x\" style=\"color:purple\"></i> Construction<br>\n",
    "      <i class=\"fa fa-map-marker fa-2x\" style=\"color:orange\"></i> Manufacturing & Logistics<br>\n",
    "      <i class=\"fa fa-map-marker fa-2x\" style=\"color:darkred\"></i> Business Financial Services<br>\n",
    "      <i class=\"fa fa-map-marker fa-2x\" style=\"color:darkblue\"></i> Transportation<br>\n",
    "      <i class=\"fa fa-map-marker fa-2x\" style=\"color:black\"></i> Other<br>\n",
    "      </div>\n",
    "     '''\n",
    "    m.get_root().html.add_child(folium.Element(legend_html))\n",
    "    \n",
    "    # Save the map as an HTML file\n",
    "    m.save('map2.html')\n",
    "\n",
    "# Example usage\n",
    "file_path = 'ProviderData_Final.xlsx'  \n",
    "lat_col = 'lat'  \n",
    "lon_col = 'long'  \n",
    "additional_col = 'Industries* '   \n",
    "\n",
    "create_map_from_csv(file_path, lat_col, lon_col, additional_col)\n",
    "\n",
    "print(\"Map has been created and saved as map.html.\")"
   ]
  },
  {
   "cell_type": "code",
   "execution_count": 36,
   "id": "597b9592-025b-4356-918a-5397b588b437",
   "metadata": {},
   "outputs": [
    {
     "name": "stdout",
     "output_type": "stream",
     "text": [
      "Map has been created and saved as map.html.\n"
     ]
    },
    {
     "name": "stderr",
     "output_type": "stream",
     "text": [
      "C:\\Users\\HitankshiJain\\anaconda3\\Lib\\site-packages\\openpyxl\\worksheet\\_read_only.py:81: UserWarning: Data Validation extension is not supported and will be removed\n",
      "  for idx, row in parser.parse():\n"
     ]
    }
   ],
   "source": [
    "import pandas as pd\n",
    "import folium\n",
    "\n",
    "# Function to create a map with latitude, longitude, and cost from a CSV file\n",
    "def create_map_from_csv(file_path, lat_col, lon_col, cost_col):\n",
    "    # Load the CSV file into a DataFrame with the specified encoding\n",
    "    df = pd.read_excel(file_path, 'Program Opportunity')\n",
    "    \n",
    "    # Drop rows with NaN values in latitude or longitude columns\n",
    "    df = df.dropna(subset=[lat_col, lon_col])\n",
    "    \n",
    "    # Calculate the average cost\n",
    "    avg_cost = df[cost_col].mean()\n",
    "    \n",
    "    # Create a map centered at the average latitude and longitude\n",
    "    m = folium.Map(location=[df[lat_col].mean(), df[lon_col].mean()], zoom_start=6)\n",
    "    \n",
    "    # Add markers for each row in the DataFrame\n",
    "    for _, row in df.iterrows():\n",
    "        color = 'blue' if row[cost_col] < avg_cost else 'red'\n",
    "        folium.Marker(\n",
    "            location=[row[lat_col], row[lon_col]],\n",
    "            popup=f\"{cost_col}: {row[cost_col]}\",\n",
    "            icon=folium.Icon(color=color)\n",
    "        ).add_to(m)\n",
    "    \n",
    "    # Add legend and average cost to the map\n",
    "    legend_html = f'''\n",
    "     <div style=\"position: fixed; \n",
    "     bottom: 50px; left: 50px; width: 200px; height: 120px; \n",
    "     border:2px solid grey; z-index:9999; font-size:14px;\n",
    "     background-color:white;\n",
    "     \">\n",
    "     &nbsp;<b>Cost Legend</b><br>\n",
    "     &nbsp;<i class=\"fa fa-map-marker fa-2x\" style=\"color:blue\"></i>&nbsp;Below Average<br>\n",
    "     &nbsp;<i class=\"fa fa-map-marker fa-2x\" style=\"color:red\"></i>&nbsp;Above Average<br>\n",
    "     &nbsp;<b>Average Cost:</b> {avg_cost:.2f}<br>\n",
    "      </div>     \n",
    "    '''\n",
    "    m.get_root().html.add_child(folium.Element(legend_html))\n",
    "    \n",
    "    # Save the map as an HTML file\n",
    "    m.save('map4.html')\n",
    "\n",
    "# Example usage\n",
    "file_path = 'ProviderData_Final.xlsx'  \n",
    "lat_col = 'lat'  \n",
    "lon_col = 'long' \n",
    "cost_col = 'Cost'  \n",
    "\n",
    "create_map_from_csv(file_path, lat_col, lon_col, cost_col)\n",
    "\n",
    "print(\"Map has been created and saved as map.html.\")"
   ]
  },
  {
   "cell_type": "code",
   "execution_count": 40,
   "id": "2d2d9506-9c4d-49f9-b9ab-d8dc40eae689",
   "metadata": {},
   "outputs": [
    {
     "name": "stderr",
     "output_type": "stream",
     "text": [
      "C:\\Users\\HitankshiJain\\anaconda3\\Lib\\site-packages\\openpyxl\\worksheet\\_read_only.py:81: UserWarning: Data Validation extension is not supported and will be removed\n",
      "  for idx, row in parser.parse():\n"
     ]
    },
    {
     "name": "stdout",
     "output_type": "stream",
     "text": [
      "Map has been created and saved as map.html.\n"
     ]
    }
   ],
   "source": [
    "import pandas as pd\n",
    "import folium\n",
    "\n",
    "# Function to create a map with latitude, longitude, and credits from a CSV file\n",
    "def create_map_from_csv(file_path, lat_col, lon_col, credits_col):\n",
    "    # Load the CSV file into a DataFrame with the specified encoding\n",
    "    df = pd.read_excel(file_path, 'Program Opportunity')\n",
    "    \n",
    "    # Drop rows with NaN values in latitude or longitude columns\n",
    "    df = df.dropna(subset=[lat_col, lon_col])\n",
    "    \n",
    "    # Calculate the average credits\n",
    "    avg_credits = df[credits_col].mean()\n",
    "    \n",
    "    # Create a map centered at the average latitude and longitude\n",
    "    m = folium.Map(location=[df[lat_col].mean(), df[lon_col].mean()], zoom_start=6)\n",
    "    \n",
    "    # Add markers for each row in the DataFrame\n",
    "    for _, row in df.iterrows():\n",
    "        color = 'blue' if row[credits_col] < avg_credits else 'red'\n",
    "        folium.Marker(\n",
    "            location=[row[lat_col], row[lon_col]],\n",
    "            popup=f\"{credits_col}: {row[credits_col]}\",\n",
    "            icon=folium.Icon(color=color)\n",
    "        ).add_to(m)    \n",
    "    \n",
    "    # Add legend and average credits to the map\n",
    "    legend_html = f'''\n",
    "     <div style=\"position: fixed; \n",
    "     bottom: 50px; left: 50px; width: 200px; height: 120px; \n",
    "     border:2px solid grey; z-index:9999; font-size:14px;\n",
    "     background-color:white;\n",
    "     \">\n",
    "      <b>Credits Legend</b><br>\n",
    "      <i class=\"fa fa-map-marker fa-2x\" style=\"color:blue\"></i> Below Average<br>\n",
    "      <i class=\"fa fa-map-marker fa-2x\" style=\"color:red\"></i> Above Average<br>\n",
    "      <b>Average Credits:</b> {avg_credits:.2f}<br>\n",
    "      </div>\n",
    "     '''\n",
    "    m.get_root().html.add_child(folium.Element(legend_html))\n",
    "    \n",
    "    # Save the map as an HTML file\n",
    "    m.save('map5.html')\n",
    "\n",
    "# Example usage\n",
    "file_path = 'ProviderData_Final.xlsx'  \n",
    "lat_col = 'lat'  \n",
    "lon_col = 'long' \n",
    "credits_col = 'Total Credits/\\nCurriculum Hours'  \n",
    "\n",
    "create_map_from_csv(file_path, lat_col, lon_col, credits_col)\n",
    "\n",
    "print(\"Map has been created and saved as map.html.\")"
   ]
  },
  {
   "cell_type": "code",
   "execution_count": null,
   "id": "5c55275d-cf33-48cf-840a-3622a183a08a",
   "metadata": {},
   "outputs": [],
   "source": []
  }
 ],
 "metadata": {
  "kernelspec": {
   "display_name": "Python 3 (ipykernel)",
   "language": "python",
   "name": "python3"
  },
  "language_info": {
   "codemirror_mode": {
    "name": "ipython",
    "version": 3
   },
   "file_extension": ".py",
   "mimetype": "text/x-python",
   "name": "python",
   "nbconvert_exporter": "python",
   "pygments_lexer": "ipython3",
   "version": "3.12.4"
  }
 },
 "nbformat": 4,
 "nbformat_minor": 5
}
