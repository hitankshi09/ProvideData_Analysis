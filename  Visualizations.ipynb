{
 "cells": [
  {
   "cell_type": "code",
   "execution_count": null,
   "id": "0fbebf48-97a1-4625-9c47-b93101ce7c0e",
   "metadata": {},
   "outputs": [],
   "source": [
    "import pandas as pd\n",
    "import plotly.express as px\n",
    "import plotly.graph_objects as go\n",
    "from plotly.subplots import make_subplots\n",
    "\n",
    "# Load the CSV file into a DataFrame\n",
    "df = pd.read_excel('ProviderData_Final.xlsx','Program Opportunity')\n",
    "\n",
    "# Create a histogram for the variable named 'Cost'\n",
    "fig1 = px.histogram(df, x='Cost', nbins=20, title='Histogram of Cost')\n",
    "\n",
    "# Create a boxplot of Cost by TrainingType\n",
    "fig2 = px.box(df, x='Training Type*', y='Cost', title='Boxplot of Cost by TrainingType')\n",
    "\n",
    "# Create a scatter plot of Cost vs TotalCredits colored by Industries using Plotly\n",
    "fig3 = px.scatter(df, x='Total Credits/\\nCurriculum Hours', y='Cost', color='Industries* ',\n",
    "                 title='Scatter plot of Cost vs TotalCredits colored by Industries',\n",
    "                 labels={'Total Credits/\\nCurriculum Hours': 'Total Credits/\\nCurriculum Hours', 'Cost': 'Cost'})\n",
    "\n",
    "# Create a histogram for Cost vs Frequency for each industry with a dropdown filter\n",
    "fig4 = px.histogram(df, x='Cost', color='Industries* ', barmode='overlay',\n",
    "                   title='Histogram of Cost vs Frequency for Each Industry')\n",
    "\n",
    "# Count the number of providers in each industry\n",
    "industry_count = df['Industries* '].value_counts().reset_index()\n",
    "industry_count.columns = ['Industries* ', 'Frequency']\n",
    "\n",
    "# Create a bar chart using Plotly\n",
    "fig5 = px.bar(industry_count, x='Industries* ', y='Frequency', text='Frequency',\n",
    "             title='Number of Providers in Each Industry')\n",
    "\n",
    "# Update the layout to rotate x-axis labels\n",
    "fig5.update_layout(xaxis_tickangle=-45)\n",
    "\n",
    "# Count the number of providers in each TrainingType\n",
    "training_type_count = df['Training Type*'].value_counts().reset_index()\n",
    "training_type_count.columns = ['Training Type*', 'Frequency']\n",
    "\n",
    "# Create a bar chart using Plotly\n",
    "fig6 = px.bar(training_type_count, x='Training Type*', y='Frequency', text='Frequency',\n",
    "             title='Number of Providers in Each TrainingType')\n",
    "\n",
    "# Update the layout to rotate x-axis labels\n",
    "fig6.update_layout(xaxis_tickangle=-45)\n",
    "\n",
    "# Combine both plots into a single HTML file\n",
    "with open('index.html', 'w') as f:\n",
    "    f.write(fig1.to_html(full_html=False, include_plotlyjs='cdn'))\n",
    "    f.write(fig2.to_html(full_html=False, include_plotlyjs='cdn'))\n",
    "    f.write(fig3.to_html(full_html=False, include_plotlyjs='cdn'))\n",
    "    f.write(fig4.to_html(full_html=False, include_plotlyjs='cdn'))\n",
    "    f.write(fig5.to_html(full_html=False, include_plotlyjs='cdn'))\n",
    "    f.write(fig6.to_html(full_html=False, include_plotlyjs='cdn'))\n",
    "\n",
    "print(\"The visualizations have been saved to index.html\")"
   ]
  }
 ],
 "metadata": {
  "kernelspec": {
   "display_name": "Python 3 (ipykernel)",
   "language": "python",
   "name": "python3"
  },
  "language_info": {
   "codemirror_mode": {
    "name": "ipython",
    "version": 3
   },
   "file_extension": ".py",
   "mimetype": "text/x-python",
   "name": "python",
   "nbconvert_exporter": "python",
   "pygments_lexer": "ipython3",
   "version": "3.12.4"
  }
 },
 "nbformat": 4,
 "nbformat_minor": 5
}
